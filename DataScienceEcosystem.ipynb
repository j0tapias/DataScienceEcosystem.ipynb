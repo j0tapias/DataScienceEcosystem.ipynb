{
 "cells": [
  {
   "cell_type": "code",
   "execution_count": null,
   "id": "f7b5ad65-e2c2-4062-9866-7db55dc729bf",
   "metadata": {},
   "outputs": [],
   "source": []
  },
  {
   "cell_type": "markdown",
   "id": "24434d84-8620-4910-a033-8a5c509bb6e1",
   "metadata": {},
   "source": [
    "# Data Science Tools and Ecosystem"
   ]
  },
  {
   "cell_type": "markdown",
   "id": "1c554cbd-5dff-47b4-8b02-db8cc5fb7d78",
   "metadata": {},
   "source": [
    "  In This notebook, Data Science Tools and Ecosystem Are Sumarized "
   ]
  },
  {
   "cell_type": "markdown",
   "id": "481a8fd7-9c8c-4f45-a77b-a25f7c3e6b14",
   "metadata": {},
   "source": [
    "**objetives:**\n",
    "* python\n",
    "* sql\n",
    "* java\n",
    "* R"
   ]
  },
  {
   "cell_type": "markdown",
   "id": "c2aa73be-1087-4bfc-87a5-fc939c230288",
   "metadata": {},
   "source": [
    "< Some of The Popular Languages that Data Scientist use are :>"
   ]
  },
  {
   "cell_type": "markdown",
   "id": "2b4e5e09-b9db-4069-bb86-3326df30e743",
   "metadata": {},
   "source": [
    "1. python\n",
    "2. R\n",
    "3. Sql\n",
    "4. Java\n",
    "   "
   ]
  },
  {
   "cell_type": "markdown",
   "id": "1b6a8984-c120-4562-ae68-dd20e34cb856",
   "metadata": {
    "editable": true,
    "slideshow": {
     "slide_type": ""
    },
    "tags": []
   },
   "source": [
    "Some of the Common Libraries used by data scientists Include :"
   ]
  },
  {
   "cell_type": "markdown",
   "id": "488355e9-a4ac-48fa-b317-ed6111898d3b",
   "metadata": {},
   "source": [
    "1. Numpy\n",
    "2. Pandas\n",
    "3. Matplolib\n",
    "4. Apache superset"
   ]
  },
  {
   "cell_type": "markdown",
   "id": "0aa57bf8-ad89-441d-b15b-60630e0807b2",
   "metadata": {},
   "source": [
    "|Data science tools|\n",
    "|---|\n",
    "|apache spark| \n",
    "| tensor flow|\n",
    "| power bi|\n",
    "| apache hadoop|"
   ]
  },
  {
   "cell_type": "markdown",
   "id": "622a6ad5-04c6-4214-9eb7-588ea2d291c7",
   "metadata": {},
   "source": [
    "### below are few examples of evaluating aritmetic expressions in python"
   ]
  },
  {
   "cell_type": "markdown",
   "id": "090f1b30-4cac-4e0e-aa68-87072cd8b028",
   "metadata": {},
   "source": [
    "this is a simple arithmetic expression to multiply then add integers\n"
   ]
  },
  {
   "cell_type": "code",
   "execution_count": 15,
   "id": "7ee0a7c0-8fd0-4b73-ad77-d08c4a62421d",
   "metadata": {},
   "outputs": [
    {
     "data": {
      "text/plain": [
       "17"
      ]
     },
     "execution_count": 15,
     "metadata": {},
     "output_type": "execute_result"
    }
   ],
   "source": [
    "(3*4)+5 "
   ]
  },
  {
   "cell_type": "code",
   "execution_count": null,
   "id": "27285171-b076-4bae-9462-adc9845e64b6",
   "metadata": {},
   "outputs": [],
   "source": [
    "this will conver 200 minutes to hous by dividing by 60"
   ]
  },
  {
   "cell_type": "code",
   "execution_count": 19,
   "id": "41220508-a64c-41d9-94e9-e148384ca33b",
   "metadata": {},
   "outputs": [
    {
     "data": {
      "text/plain": [
       "3.3333333333333335"
      ]
     },
     "execution_count": 19,
     "metadata": {},
     "output_type": "execute_result"
    }
   ],
   "source": [
    "200/60"
   ]
  },
  {
   "cell_type": "markdown",
   "id": "92024200-b8aa-4661-b518-b04326a81254",
   "metadata": {},
   "source": [
    "## Autor:\n",
    "josue tapias "
   ]
  },
  {
   "cell_type": "code",
   "execution_count": null,
   "id": "071a39d8-ae3f-40c3-a417-ea13b931c298",
   "metadata": {},
   "outputs": [],
   "source": []
  }
 ],
 "metadata": {
  "kernelspec": {
   "display_name": "anaconda-panel-2023.05-py310",
   "language": "python",
   "name": "conda-env-anaconda-panel-2023.05-py310-py"
  },
  "language_info": {
   "codemirror_mode": {
    "name": "ipython",
    "version": 3
   },
   "file_extension": ".py",
   "mimetype": "text/x-python",
   "name": "python",
   "nbconvert_exporter": "python",
   "pygments_lexer": "ipython3",
   "version": "3.11.5"
  }
 },
 "nbformat": 4,
 "nbformat_minor": 5
}
